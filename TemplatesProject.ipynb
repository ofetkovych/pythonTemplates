{
  "cells": [
    {
      "cell_type": "code",
      "execution_count": null,
      "metadata": {
        "colab": {
          "base_uri": "https://localhost:8080/"
        },
        "id": "_qXIiZRhCN0c",
        "outputId": "a49e8b74-94a8-4a96-dcf3-17bdebfcbab4"
      },
      "outputs": [
        {
          "output_type": "stream",
          "name": "stdout",
          "text": [
            "Collecting wget\n",
            "  Downloading wget-3.2.zip (10 kB)\n",
            "Building wheels for collected packages: wget\n",
            "  Building wheel for wget (setup.py) ... \u001b[?25l\u001b[?25hdone\n",
            "  Created wheel for wget: filename=wget-3.2-py3-none-any.whl size=9675 sha256=90b1439eb384a31cd761cf2ac7752bf84c1fd2ea922dc36beb2fc44e2dc4454d\n",
            "  Stored in directory: /root/.cache/pip/wheels/a1/b6/7c/0e63e34eb06634181c63adacca38b79ff8f35c37e3c13e3c02\n",
            "Successfully built wget\n",
            "Installing collected packages: wget\n",
            "Successfully installed wget-3.2\n",
            "Collecting patool\n",
            "  Downloading patool-1.12-py2.py3-none-any.whl (77 kB)\n",
            "\u001b[K     |████████████████████████████████| 77 kB 3.0 MB/s \n",
            "\u001b[?25hInstalling collected packages: patool\n",
            "Successfully installed patool-1.12\n"
          ]
        }
      ],
      "source": [
        "!pip install wget\n",
        "!pip install patool\n",
        "import wget\n",
        "import patoolib\n",
        "import os\n",
        "import numpy as np\n",
        "import cv2\n",
        "import tensorflow as tf\n",
        "from tensorflow.keras.utils import to_categorical\n",
        "import random\n",
        "import pandas"
      ]
    },
    {
      "cell_type": "markdown",
      "metadata": {
        "id": "XhbLGJclCZ_D"
      },
      "source": [
        "Stahovanie dat"
      ]
    },
    {
      "cell_type": "code",
      "execution_count": null,
      "metadata": {
        "colab": {
          "base_uri": "https://localhost:8080/",
          "height": 105
        },
        "id": "mHIBFJguCQLr",
        "outputId": "56859da1-c74b-4123-d100-3ade69020fcb"
      },
      "outputs": [
        {
          "output_type": "stream",
          "name": "stdout",
          "text": [
            "patool: Extracting /content/znacky.rar ...\n",
            "patool: running /usr/bin/unrar x -- /content/znacky.rar\n",
            "patool:     with cwd='/content'\n",
            "patool: ... /content/znacky.rar extracted to `/content'.\n"
          ]
        },
        {
          "output_type": "execute_result",
          "data": {
            "application/vnd.google.colaboratory.intrinsic+json": {
              "type": "string"
            },
            "text/plain": [
              "'/content'"
            ]
          },
          "metadata": {},
          "execution_count": 2
        }
      ],
      "source": [
        "url = \"https://s.ics.upjs.sk/~shorvat/files/data/znacky.rar\"\n",
        "wget.download(url, \"znacky.rar\")\n",
        "patoolib.extract_archive(\"/content/znacky.rar\", outdir=\"/content\")"
      ]
    },
    {
      "cell_type": "markdown",
      "metadata": {
        "id": "BvOww7mGCcHr"
      },
      "source": [
        "Priprava dat"
      ]
    },
    {
      "cell_type": "code",
      "execution_count": null,
      "metadata": {
        "id": "WvY8NdhbCP-C",
        "colab": {
          "base_uri": "https://localhost:8080/"
        },
        "outputId": "087fc119-a62f-48e9-ddfa-ad9c645dc6a8"
      },
      "outputs": [
        {
          "output_type": "execute_result",
          "data": {
            "text/plain": [
              "(10000, 10000, 10000, 10000, 10000, 10000, 10000)"
            ]
          },
          "metadata": {},
          "execution_count": 5
        }
      ],
      "source": [
        "#1-> 1 0 0 0 0 0 0 ...\n",
        "#2-> 0 1 0 0 0 0 0 ...\n",
        "\n",
        "\n",
        "data_dir = \"/content/znacky/\"\n",
        "names = os.listdir(data_dir)\n",
        "\n",
        "y1 = np.array([n[0] for n in names])\n",
        "y2 = np.array([n[1] for n in names])\n",
        "y3 = np.array([n[2] for n in names])\n",
        "y4 = np.array([n[3] for n in names])\n",
        "y5 = np.array([n[4] for n in names])\n",
        "y6 = np.array([n[5] for n in names])\n",
        "y7 = np.array([n[6] for n in names])\n",
        "\n",
        "y11 = np.array([n[0] for n in names])\n",
        "y12 = np.array([n[1] for n in names])\n",
        "y13 = np.array([n[2] for n in names])\n",
        "y14 = np.array([n[3] for n in names])\n",
        "y15 = np.array([n[4] for n in names])\n",
        "y16 = np.array([n[5] for n in names])\n",
        "y17 = np.array([n[6] for n in names])\n",
        "\n",
        "X = np.array([data_dir+n for n in names])\n",
        "#X, y ...\n",
        "\n",
        "setList = list(set(y1))\n",
        "\n",
        "y1 = y1.tolist()\n",
        "y2 = y2.tolist()\n",
        "y3 = y3.tolist()\n",
        "y4 = y4.tolist()\n",
        "y5 = y5.tolist()\n",
        "y6 = y6.tolist()\n",
        "y7 = y7.tolist()\n",
        "for i, n in enumerate(y1):  \n",
        "  y1[i] = setList.index(y1[i])\n",
        "for i, n in enumerate(y2):  \n",
        "  y2[i] = setList.index(y2[i])\n",
        "for i, n in enumerate(y3):  \n",
        "  y3[i] = setList.index(y3[i])\n",
        "for i, n in enumerate(y4):  \n",
        "  y4[i] = setList.index(y4[i])\n",
        "for i, n in enumerate(y5):  \n",
        "  y5[i] = setList.index(y5[i])\n",
        "for i, n in enumerate(y6):  \n",
        "  y6[i] = setList.index(y6[i])\n",
        "for i, n in enumerate(y7):  \n",
        "  y7[i] = setList.index(y7[i])\n",
        "\n",
        "y11 = y11.tolist()\n",
        "for i, n in enumerate(y11):  \n",
        "  if n.isnumeric():\n",
        "    y11[i] = 1\n",
        "  else:\n",
        "    y11[i] = 0\n",
        "\n",
        "y11 = np.array(y11)\n",
        "\n",
        "y12 = y12.tolist()\n",
        "for i, n in enumerate(y12):  \n",
        "  if n.isnumeric():\n",
        "    y12[i] = 1\n",
        "  else:\n",
        "    y12[i] = 0\n",
        "\n",
        "y12 = np.array(y12)\n",
        "\n",
        "y13 = y13.tolist()\n",
        "for i, n in enumerate(y13):  \n",
        "  if n.isnumeric():\n",
        "    y13[i] = 1\n",
        "  else:\n",
        "    y13[i] = 0\n",
        "\n",
        "y13 = np.array(y13)\n",
        "\n",
        "y14 = y14.tolist()\n",
        "for i, n in enumerate(y14):  \n",
        "  if n.isnumeric():\n",
        "    y14[i] = 1\n",
        "  else:\n",
        "    y14[i] = 0\n",
        "\n",
        "y14 = np.array(y14)\n",
        "\n",
        "y15 = y15.tolist()\n",
        "for i, n in enumerate(y15):  \n",
        "  if n.isnumeric():\n",
        "    y15[i] = 1\n",
        "  else:\n",
        "    y15[i] = 0\n",
        "\n",
        "y15 = np.array(y15)\n",
        "\n",
        "y16 = y16.tolist()\n",
        "for i, n in enumerate(y16):  \n",
        "  if n.isnumeric():\n",
        "    y16[i] = 1\n",
        "  else:\n",
        "    y16[i] = 0\n",
        "\n",
        "y16 = np.array(y16)\n",
        "\n",
        "y17 = y17.tolist()\n",
        "for i, n in enumerate(y17):  \n",
        "  if n.isnumeric():\n",
        "    y17[i] = 1\n",
        "  else:\n",
        "    y17[i] = 0\n",
        "\n",
        "y17 = np.array(y17)\n",
        "\n",
        "\n",
        "y1 = np.array(y1)\n",
        "y2 = np.array(y2)\n",
        "y3 = np.array(y3)\n",
        "y4 = np.array(y4)\n",
        "y5 = np.array(y5)\n",
        "y6 = np.array(y6)\n",
        "y7 = np.array(y7)\n",
        "\n",
        "len(X), len(y1), len(y2), len(y3), len(y4), len(y5), len(y6), len(y7)\n",
        "len(y11), len(y12), len(y13), len(y14), len(y15), len(y16), len(y17)"
      ]
    },
    {
      "cell_type": "markdown",
      "metadata": {
        "id": "YOd5FmVFCfI0"
      },
      "source": [
        "Priprava znacky"
      ]
    },
    {
      "cell_type": "code",
      "execution_count": null,
      "metadata": {
        "colab": {
          "base_uri": "https://localhost:8080/",
          "height": 106
        },
        "id": "FnCjQhsTCPuk",
        "outputId": "468b2e21-03d5-4f4e-e82b-dcd85899fd88"
      },
      "outputs": [
        {
          "output_type": "display_data",
          "data": {
            "image/png": "[encoded data removed]",
            "text/plain": [
              "<PIL.Image.Image image mode=RGB size=260x55 at 0x7FD7E0FF3D50>"
            ]
          },
          "metadata": {}
        },
        {
          "output_type": "stream",
          "name": "stdout",
          "text": [
            "(55, 260)\n",
            "label: 1 r z 7 f x b\n"
          ]
        }
      ],
      "source": [
        "from google.colab.patches import cv2_imshow\n",
        "\n",
        "img = cv2.imread(X[0], 0)\n",
        "cv2_imshow(img.reshape((55,260,1)))\n",
        "print(np.shape(img))\n",
        "print(\"label:\", setList[y1[0]], setList[y2[0]], setList[y3[0]], setList[y4[0]], setList[y5[0]], setList[y6[0]], setList[y7[0]])"
      ]
    },
    {
      "cell_type": "markdown",
      "metadata": {
        "id": "0V5XwoWxHT67"
      },
      "source": [
        "Generator"
      ]
    },
    {
      "cell_type": "code",
      "execution_count": null,
      "metadata": {
        "id": "18pe_ccyClND"
      },
      "outputs": [],
      "source": [
        "class Plate_generator(tf.keras.utils.Sequence):\n",
        "    \n",
        "    def __init__(self, X_path, y1, y2, y3, y4, y5, y6, y7, y11, y12, y13, y14, y15, y16, y17, batch_size):\n",
        "        \n",
        "        self.X_path = X_path\n",
        "        self.y1 = y1\n",
        "        self.y2 = y2\n",
        "        self.y3 = y3\n",
        "        self.y4 = y4\n",
        "        self.y5 = y5\n",
        "        self.y6 = y6\n",
        "        self.y7 = y7\n",
        "        self.batch_size = batch_size\n",
        "\n",
        "        self.y11 = y11\n",
        "        self.y12 = y12\n",
        "        self.y13 = y13\n",
        "        self.y14 = y14\n",
        "        self.y15 = y15\n",
        "        self.y16 = y16\n",
        "        self.y17 = y17\n",
        "\n",
        "    def __getitem__(self, idx):\n",
        "        batch_x = self.X_path[idx*self.batch_size : (idx+1)*self.batch_size]\n",
        "        batch_y1 = self.y1[idx*self.batch_size : (idx+1)*self.batch_size]\n",
        "        batch_y2 = self.y2[idx*self.batch_size : (idx+1)*self.batch_size]\n",
        "        batch_y3 = self.y3[idx*self.batch_size : (idx+1)*self.batch_size]\n",
        "        batch_y4 = self.y4[idx*self.batch_size : (idx+1)*self.batch_size]\n",
        "        batch_y5 = self.y5[idx*self.batch_size : (idx+1)*self.batch_size]\n",
        "        batch_y6 = self.y6[idx*self.batch_size : (idx+1)*self.batch_size]\n",
        "        batch_y7 = self.y7[idx*self.batch_size : (idx+1)*self.batch_size]\n",
        "\n",
        "        batch_y11 = self.y11[idx*self.batch_size : (idx+1)*self.batch_size]\n",
        "        batch_y12 = self.y12[idx*self.batch_size : (idx+1)*self.batch_size]\n",
        "        batch_y13 = self.y13[idx*self.batch_size : (idx+1)*self.batch_size]\n",
        "        batch_y14 = self.y14[idx*self.batch_size : (idx+1)*self.batch_size]\n",
        "        batch_y15 = self.y15[idx*self.batch_size : (idx+1)*self.batch_size]\n",
        "        batch_y16 = self.y16[idx*self.batch_size : (idx+1)*self.batch_size]\n",
        "        batch_y17 = self.y17[idx*self.batch_size : (idx+1)*self.batch_size]\n",
        "\n",
        "\n",
        "        batch_x = np.array([cv2.imread(i, 0).reshape((55,260,1)) for i in batch_x])\n",
        "        batch_y1 = to_categorical(batch_y1, num_classes=36)\n",
        "        batch_y2 = to_categorical(batch_y2, num_classes=36)\n",
        "        batch_y3 = to_categorical(batch_y3, num_classes=36)\n",
        "        batch_y4 = to_categorical(batch_y4, num_classes=36)\n",
        "        batch_y5 = to_categorical(batch_y5, num_classes=36)\n",
        "        batch_y6 = to_categorical(batch_y6, num_classes=36)\n",
        "        batch_y7 = to_categorical(batch_y7, num_classes=36)\n",
        "\n",
        "        batch_y11 = to_categorical(batch_y11, num_classes=2)\n",
        "        batch_y12 = to_categorical(batch_y12, num_classes=2)\n",
        "        batch_y13 = to_categorical(batch_y13, num_classes=2)\n",
        "        batch_y14 = to_categorical(batch_y14, num_classes=2)\n",
        "        batch_y15 = to_categorical(batch_y15, num_classes=2)\n",
        "        batch_y16 = to_categorical(batch_y16, num_classes=2)\n",
        "        batch_y17 = to_categorical(batch_y17, num_classes=2)\n",
        "\n",
        "\n",
        "\n",
        "        return batch_x, [batch_y1, batch_y2, batch_y3, batch_y4, batch_y5, batch_y6, batch_y7, batch_y11, batch_y12, batch_y13, batch_y14, batch_y15, batch_y16, batch_y17]\n",
        "    \n",
        "    def __len__(self):\n",
        "        return len(self.y1) // self.batch_size\n",
        "\n",
        "\n",
        "idx = np.arange(len(y1))\n",
        "random.shuffle(idx)\n",
        "\n",
        "X = X[idx]\n",
        "y1 = y1[idx]\n",
        "y2 = y2[idx]\n",
        "y3 = y3[idx]\n",
        "y4 = y4[idx]\n",
        "y5 = y5[idx]\n",
        "y6 = y6[idx]\n",
        "y7 = y7[idx]\n",
        "\n",
        "y11 = y11[idx]\n",
        "y12 = y12[idx]\n",
        "y13 = y13[idx]\n",
        "y14 = y14[idx]\n",
        "y15 = y15[idx]\n",
        "y16 = y16[idx]\n",
        "y17 = y17[idx]\n",
        "\n",
        "train_gen = Plate_generator(X_path=X[:730], y1=y1[:730], y2=y2[:730], y3=y3[:730], y4=y4[:730], y5=y5[:730], y6=y6[:730], y7=y7[:730], y11=y11[:730], y12=y12[:730], y13=y13[:730], y14=y14[:730], y15=y15[:730], y16=y16[:730], y17=y17[:730], batch_size=60)\n",
        "test_gen = Plate_generator(X_path=X[730:], y1=y1[730:], y2=y2[730:], y3=y3[730:], y4=y4[730:], y5=y5[730:], y6=y6[730:], y7=y7[730:], y11=y11[730:], y12=y12[730:], y13=y13[730:], y14=y14[730:], y15=y15[730:], y16=y16[730:], y17=y17[730:], batch_size=60)"
      ]
    },
    {
      "cell_type": "code",
      "execution_count": null,
      "metadata": {
        "colab": {
          "base_uri": "https://localhost:8080/"
        },
        "id": "Pyl-h3fzCn7j",
        "outputId": "04774a2b-edfe-4650-e15d-782ff79bdc04"
      },
      "outputs": [
        {
          "output_type": "stream",
          "name": "stdout",
          "text": [
            "Epoch 1/15\n",
            "12/12 [==============================] - 35s 3s/step - loss: 20678.7324 - dense_loss: 2550.9202 - dense_1_loss: 2440.8516 - dense_2_loss: 2401.5369 - dense_3_loss: 2357.1150 - dense_4_loss: 2819.9248 - dense_5_loss: 2857.7991 - dense_6_loss: 1735.7908 - dense_7_loss: 552.4792 - dense_8_loss: 620.1630 - dense_9_loss: 485.4563 - dense_10_loss: 523.1321 - dense_11_loss: 558.9610 - dense_12_loss: 471.5950 - dense_13_loss: 303.0081 - dense_accuracy: 0.0444 - dense_1_accuracy: 0.0528 - dense_2_accuracy: 0.0486 - dense_3_accuracy: 0.0514 - dense_4_accuracy: 0.0347 - dense_5_accuracy: 0.0444 - dense_6_accuracy: 0.0556 - dense_7_accuracy: 0.5528 - dense_8_accuracy: 0.6722 - dense_9_accuracy: 0.6153 - dense_10_accuracy: 0.5653 - dense_11_accuracy: 0.5861 - dense_12_accuracy: 0.6458 - dense_13_accuracy: 0.6236 - val_loss: 28501.5977 - val_dense_loss: 4179.2461 - val_dense_1_loss: 3704.3433 - val_dense_2_loss: 3833.5576 - val_dense_3_loss: 3726.0754 - val_dense_4_loss: 3912.4570 - val_dense_5_loss: 3907.1499 - val_dense_6_loss: 3223.2083 - val_dense_7_loss: 265.9233 - val_dense_8_loss: 228.4188 - val_dense_9_loss: 717.2258 - val_dense_10_loss: 244.3601 - val_dense_11_loss: 136.4692 - val_dense_12_loss: 199.9362 - val_dense_13_loss: 223.2312 - val_dense_accuracy: 0.0564 - val_dense_1_accuracy: 0.0720 - val_dense_2_accuracy: 0.0547 - val_dense_3_accuracy: 0.0295 - val_dense_4_accuracy: 0.0814 - val_dense_5_accuracy: 0.0321 - val_dense_6_accuracy: 0.0385 - val_dense_7_accuracy: 0.7182 - val_dense_8_accuracy: 0.2899 - val_dense_9_accuracy: 0.7179 - val_dense_10_accuracy: 0.7238 - val_dense_11_accuracy: 0.7210 - val_dense_12_accuracy: 0.2832 - val_dense_13_accuracy: 0.2821\n",
            "Epoch 2/15\n",
            "12/12 [==============================] - 30s 3s/step - loss: 24944.9395 - dense_loss: 4052.4492 - dense_1_loss: 3482.0742 - dense_2_loss: 3568.5125 - dense_3_loss: 3254.5791 - dense_4_loss: 2954.2747 - dense_5_loss: 2944.6511 - dense_6_loss: 3525.2131 - dense_7_loss: 230.5208 - dense_8_loss: 218.8705 - dense_9_loss: 303.5325 - dense_10_loss: 139.9926 - dense_11_loss: 93.2116 - dense_12_loss: 82.5341 - dense_13_loss: 94.5255 - dense_accuracy: 0.0569 - dense_1_accuracy: 0.0611 - dense_2_accuracy: 0.0764 - dense_3_accuracy: 0.0625 - dense_4_accuracy: 0.0833 - dense_5_accuracy: 0.0750 - dense_6_accuracy: 0.0806 - dense_7_accuracy: 0.6083 - dense_8_accuracy: 0.6042 - dense_9_accuracy: 0.6306 - dense_10_accuracy: 0.6236 - dense_11_accuracy: 0.6653 - dense_12_accuracy: 0.6292 - dense_13_accuracy: 0.6403 - val_loss: 17974.6758 - val_dense_loss: 2720.5071 - val_dense_1_loss: 2562.7571 - val_dense_2_loss: 2245.0342 - val_dense_3_loss: 2463.7021 - val_dense_4_loss: 1793.3213 - val_dense_5_loss: 2160.7415 - val_dense_6_loss: 3547.0239 - val_dense_7_loss: 8.0124 - val_dense_8_loss: 126.4573 - val_dense_9_loss: 82.0910 - val_dense_10_loss: 92.7694 - val_dense_11_loss: 83.5432 - val_dense_12_loss: 38.3408 - val_dense_13_loss: 50.3702 - val_dense_accuracy: 0.0525 - val_dense_1_accuracy: 0.0879 - val_dense_2_accuracy: 0.1157 - val_dense_3_accuracy: 0.1513 - val_dense_4_accuracy: 0.0703 - val_dense_5_accuracy: 0.0662 - val_dense_6_accuracy: 0.0874 - val_dense_7_accuracy: 0.8286 - val_dense_8_accuracy: 0.7101 - val_dense_9_accuracy: 0.7179 - val_dense_10_accuracy: 0.7238 - val_dense_11_accuracy: 0.7210 - val_dense_12_accuracy: 0.7210 - val_dense_13_accuracy: 0.7189\n",
            "Epoch 3/15\n",
            "12/12 [==============================] - 30s 3s/step - loss: 11356.2256 - dense_loss: 1948.4141 - dense_1_loss: 1563.9264 - dense_2_loss: 1348.3868 - dense_3_loss: 1643.0870 - dense_4_loss: 992.8909 - dense_5_loss: 1240.5728 - dense_6_loss: 2325.0125 - dense_7_loss: 60.5802 - dense_8_loss: 83.1030 - dense_9_loss: 43.8616 - dense_10_loss: 33.2602 - dense_11_loss: 24.9317 - dense_12_loss: 13.9246 - dense_13_loss: 34.2750 - dense_accuracy: 0.0944 - dense_1_accuracy: 0.1125 - dense_2_accuracy: 0.1236 - dense_3_accuracy: 0.1972 - dense_4_accuracy: 0.1778 - dense_5_accuracy: 0.1500 - dense_6_accuracy: 0.1792 - dense_7_accuracy: 0.6583 - dense_8_accuracy: 0.6167 - dense_9_accuracy: 0.7347 - dense_10_accuracy: 0.7125 - dense_11_accuracy: 0.8028 - dense_12_accuracy: 0.8125 - dense_13_accuracy: 0.7486 - val_loss: 6065.2388 - val_dense_loss: 1084.5494 - val_dense_1_loss: 787.2626 - val_dense_2_loss: 701.3333 - val_dense_3_loss: 980.6293 - val_dense_4_loss: 467.6144 - val_dense_5_loss: 659.0253 - val_dense_6_loss: 1208.2793 - val_dense_7_loss: 20.1892 - val_dense_8_loss: 89.0985 - val_dense_9_loss: 11.8258 - val_dense_10_loss: 11.0602 - val_dense_11_loss: 16.4036 - val_dense_12_loss: 5.8512 - val_dense_13_loss: 22.1176 - val_dense_accuracy: 0.1236 - val_dense_1_accuracy: 0.1501 - val_dense_2_accuracy: 0.1798 - val_dense_3_accuracy: 0.1598 - val_dense_4_accuracy: 0.1419 - val_dense_5_accuracy: 0.1620 - val_dense_6_accuracy: 0.1603 - val_dense_7_accuracy: 0.7446 - val_dense_8_accuracy: 0.7101 - val_dense_9_accuracy: 0.8195 - val_dense_10_accuracy: 0.7955 - val_dense_11_accuracy: 0.7877 - val_dense_12_accuracy: 0.8431 - val_dense_13_accuracy: 0.7556\n",
            "Epoch 4/15\n",
            "12/12 [==============================] - 30s 3s/step - loss: 3652.1799 - dense_loss: 697.6520 - dense_1_loss: 511.2093 - dense_2_loss: 467.9563 - dense_3_loss: 571.8602 - dense_4_loss: 222.0976 - dense_5_loss: 334.7679 - dense_6_loss: 758.8256 - dense_7_loss: 21.3377 - dense_8_loss: 26.6832 - dense_9_loss: 18.9715 - dense_10_loss: 4.8983 - dense_11_loss: 5.4488 - dense_12_loss: 2.2173 - dense_13_loss: 8.2549 - dense_accuracy: 0.3028 - dense_1_accuracy: 0.3347 - dense_2_accuracy: 0.2917 - dense_3_accuracy: 0.3125 - dense_4_accuracy: 0.3431 - dense_5_accuracy: 0.3319 - dense_6_accuracy: 0.2167 - dense_7_accuracy: 0.7597 - dense_8_accuracy: 0.7792 - dense_9_accuracy: 0.7764 - dense_10_accuracy: 0.8625 - dense_11_accuracy: 0.8861 - dense_12_accuracy: 0.9153 - dense_13_accuracy: 0.8625 - val_loss: 2369.1404 - val_dense_loss: 448.1800 - val_dense_1_loss: 320.2648 - val_dense_2_loss: 292.8276 - val_dense_3_loss: 390.1764 - val_dense_4_loss: 193.3368 - val_dense_5_loss: 212.5394 - val_dense_6_loss: 431.5198 - val_dense_7_loss: 26.1773 - val_dense_8_loss: 16.3181 - val_dense_9_loss: 9.4899 - val_dense_10_loss: 3.6998 - val_dense_11_loss: 9.5986 - val_dense_12_loss: 2.9920 - val_dense_13_loss: 12.0199 - val_dense_accuracy: 0.3130 - val_dense_1_accuracy: 0.2873 - val_dense_2_accuracy: 0.3275 - val_dense_3_accuracy: 0.3184 - val_dense_4_accuracy: 0.3514 - val_dense_5_accuracy: 0.2487 - val_dense_6_accuracy: 0.3598 - val_dense_7_accuracy: 0.6793 - val_dense_8_accuracy: 0.7812 - val_dense_9_accuracy: 0.8239 - val_dense_10_accuracy: 0.8756 - val_dense_11_accuracy: 0.8225 - val_dense_12_accuracy: 0.8848 - val_dense_13_accuracy: 0.7956\n",
            "Epoch 5/15\n",
            "12/12 [==============================] - 30s 3s/step - loss: 1300.0205 - dense_loss: 258.0116 - dense_1_loss: 183.6538 - dense_2_loss: 160.6894 - dense_3_loss: 217.3466 - dense_4_loss: 78.2993 - dense_5_loss: 88.6402 - dense_6_loss: 281.8766 - dense_7_loss: 8.3584 - dense_8_loss: 7.0894 - dense_9_loss: 7.7093 - dense_10_loss: 1.8542 - dense_11_loss: 2.1764 - dense_12_loss: 0.5708 - dense_13_loss: 3.7447 - dense_accuracy: 0.5139 - dense_1_accuracy: 0.5111 - dense_2_accuracy: 0.5486 - dense_3_accuracy: 0.5181 - dense_4_accuracy: 0.5667 - dense_5_accuracy: 0.5264 - dense_6_accuracy: 0.4847 - dense_7_accuracy: 0.8417 - dense_8_accuracy: 0.8750 - dense_9_accuracy: 0.8681 - dense_10_accuracy: 0.9347 - dense_11_accuracy: 0.9153 - dense_12_accuracy: 0.9681 - dense_13_accuracy: 0.9014 - val_loss: 896.2203 - val_dense_loss: 165.5977 - val_dense_1_loss: 119.3567 - val_dense_2_loss: 95.1102 - val_dense_3_loss: 155.6555 - val_dense_4_loss: 52.1026 - val_dense_5_loss: 70.9908 - val_dense_6_loss: 208.6344 - val_dense_7_loss: 6.2620 - val_dense_8_loss: 3.9494 - val_dense_9_loss: 6.1054 - val_dense_10_loss: 2.9612 - val_dense_11_loss: 5.1178 - val_dense_12_loss: 2.3681 - val_dense_13_loss: 2.0087 - val_dense_accuracy: 0.4172 - val_dense_1_accuracy: 0.4198 - val_dense_2_accuracy: 0.5108 - val_dense_3_accuracy: 0.4915 - val_dense_4_accuracy: 0.5282 - val_dense_5_accuracy: 0.5177 - val_dense_6_accuracy: 0.4250 - val_dense_7_accuracy: 0.8659 - val_dense_8_accuracy: 0.8874 - val_dense_9_accuracy: 0.8620 - val_dense_10_accuracy: 0.8911 - val_dense_11_accuracy: 0.8632 - val_dense_12_accuracy: 0.9027 - val_dense_13_accuracy: 0.9147\n",
            "Epoch 6/15\n",
            "12/12 [==============================] - 30s 3s/step - loss: 416.8898 - dense_loss: 77.4216 - dense_1_loss: 47.1188 - dense_2_loss: 53.1656 - dense_3_loss: 79.2064 - dense_4_loss: 12.7828 - dense_5_loss: 21.4505 - dense_6_loss: 115.1690 - dense_7_loss: 2.3540 - dense_8_loss: 2.6087 - dense_9_loss: 2.3021 - dense_10_loss: 0.9142 - dense_11_loss: 1.0291 - dense_12_loss: 0.4375 - dense_13_loss: 0.9294 - dense_accuracy: 0.6917 - dense_1_accuracy: 0.7250 - dense_2_accuracy: 0.7389 - dense_3_accuracy: 0.7389 - dense_4_accuracy: 0.7958 - dense_5_accuracy: 0.7986 - dense_6_accuracy: 0.7069 - dense_7_accuracy: 0.9292 - dense_8_accuracy: 0.9306 - dense_9_accuracy: 0.9361 - dense_10_accuracy: 0.9556 - dense_11_accuracy: 0.9458 - dense_12_accuracy: 0.9667 - dense_13_accuracy: 0.9611 - val_loss: 413.9771 - val_dense_loss: 66.9582 - val_dense_1_loss: 38.7200 - val_dense_2_loss: 51.2609 - val_dense_3_loss: 90.3648 - val_dense_4_loss: 22.9261 - val_dense_5_loss: 30.7461 - val_dense_6_loss: 99.3710 - val_dense_7_loss: 3.0802 - val_dense_8_loss: 3.2245 - val_dense_9_loss: 2.1952 - val_dense_10_loss: 0.6801 - val_dense_11_loss: 1.4576 - val_dense_12_loss: 1.3681 - val_dense_13_loss: 1.6240 - val_dense_accuracy: 0.5330 - val_dense_1_accuracy: 0.5799 - val_dense_2_accuracy: 0.5991 - val_dense_3_accuracy: 0.5446 - val_dense_4_accuracy: 0.5876 - val_dense_5_accuracy: 0.5767 - val_dense_6_accuracy: 0.5160 - val_dense_7_accuracy: 0.9034 - val_dense_8_accuracy: 0.9006 - val_dense_9_accuracy: 0.9148 - val_dense_10_accuracy: 0.9574 - val_dense_11_accuracy: 0.9301 - val_dense_12_accuracy: 0.9251 - val_dense_13_accuracy: 0.9287\n",
            "Epoch 7/15\n",
            "12/12 [==============================] - 30s 3s/step - loss: 119.9594 - dense_loss: 13.7443 - dense_1_loss: 6.5915 - dense_2_loss: 13.7952 - dense_3_loss: 29.2076 - dense_4_loss: 1.6090 - dense_5_loss: 2.6379 - dense_6_loss: 50.1806 - dense_7_loss: 0.4942 - dense_8_loss: 0.5624 - dense_9_loss: 0.3115 - dense_10_loss: 0.1699 - dense_11_loss: 0.2405 - dense_12_loss: 0.2193 - dense_13_loss: 0.1954 - dense_accuracy: 0.8694 - dense_1_accuracy: 0.9000 - dense_2_accuracy: 0.8917 - dense_3_accuracy: 0.8847 - dense_4_accuracy: 0.9347 - dense_5_accuracy: 0.9347 - dense_6_accuracy: 0.8417 - dense_7_accuracy: 0.9708 - dense_8_accuracy: 0.9694 - dense_9_accuracy: 0.9750 - dense_10_accuracy: 0.9875 - dense_11_accuracy: 0.9819 - dense_12_accuracy: 0.9806 - dense_13_accuracy: 0.9847 - val_loss: 196.9699 - val_dense_loss: 21.8544 - val_dense_1_loss: 16.0985 - val_dense_2_loss: 15.4907 - val_dense_3_loss: 46.8305 - val_dense_4_loss: 16.4906 - val_dense_5_loss: 17.7083 - val_dense_6_loss: 54.9047 - val_dense_7_loss: 1.3443 - val_dense_8_loss: 1.5674 - val_dense_9_loss: 1.5180 - val_dense_10_loss: 0.5195 - val_dense_11_loss: 1.0489 - val_dense_12_loss: 0.5979 - val_dense_13_loss: 0.9961 - val_dense_accuracy: 0.6804 - val_dense_1_accuracy: 0.6615 - val_dense_2_accuracy: 0.7029 - val_dense_3_accuracy: 0.6791 - val_dense_4_accuracy: 0.6421 - val_dense_5_accuracy: 0.6692 - val_dense_6_accuracy: 0.6681 - val_dense_7_accuracy: 0.9423 - val_dense_8_accuracy: 0.9343 - val_dense_9_accuracy: 0.9318 - val_dense_10_accuracy: 0.9631 - val_dense_11_accuracy: 0.9456 - val_dense_12_accuracy: 0.9577 - val_dense_13_accuracy: 0.9491\n",
            "Epoch 8/15\n",
            "12/12 [==============================] - 30s 3s/step - loss: 52.4722 - dense_loss: 2.9564 - dense_1_loss: 1.3911 - dense_2_loss: 1.2873 - dense_3_loss: 15.7540 - dense_4_loss: 0.6524 - dense_5_loss: 0.8747 - dense_6_loss: 28.5462 - dense_7_loss: 0.2457 - dense_8_loss: 0.3323 - dense_9_loss: 0.1833 - dense_10_loss: 0.0397 - dense_11_loss: 0.0941 - dense_12_loss: 0.0646 - dense_13_loss: 0.0505 - dense_accuracy: 0.9319 - dense_1_accuracy: 0.9472 - dense_2_accuracy: 0.9639 - dense_3_accuracy: 0.9250 - dense_4_accuracy: 0.9736 - dense_5_accuracy: 0.9764 - dense_6_accuracy: 0.9403 - dense_7_accuracy: 0.9833 - dense_8_accuracy: 0.9861 - dense_9_accuracy: 0.9861 - dense_10_accuracy: 0.9931 - dense_11_accuracy: 0.9889 - dense_12_accuracy: 0.9917 - dense_13_accuracy: 0.9931 - val_loss: 128.8166 - val_dense_loss: 13.5664 - val_dense_1_loss: 9.2886 - val_dense_2_loss: 10.2749 - val_dense_3_loss: 35.5094 - val_dense_4_loss: 7.3308 - val_dense_5_loss: 10.8478 - val_dense_6_loss: 35.6775 - val_dense_7_loss: 1.2979 - val_dense_8_loss: 0.9146 - val_dense_9_loss: 1.0097 - val_dense_10_loss: 0.4426 - val_dense_11_loss: 0.8430 - val_dense_12_loss: 0.7355 - val_dense_13_loss: 1.0777 - val_dense_accuracy: 0.7364 - val_dense_1_accuracy: 0.7463 - val_dense_2_accuracy: 0.7498 - val_dense_3_accuracy: 0.6263 - val_dense_4_accuracy: 0.7946 - val_dense_5_accuracy: 0.7471 - val_dense_6_accuracy: 0.7698 - val_dense_7_accuracy: 0.9500 - val_dense_8_accuracy: 0.9545 - val_dense_9_accuracy: 0.9503 - val_dense_10_accuracy: 0.9672 - val_dense_11_accuracy: 0.9537 - val_dense_12_accuracy: 0.9555 - val_dense_13_accuracy: 0.9461\n",
            "Epoch 9/15\n",
            "12/12 [==============================] - 30s 3s/step - loss: 27.9149 - dense_loss: 0.9117 - dense_1_loss: 0.2781 - dense_2_loss: 0.6990 - dense_3_loss: 6.9289 - dense_4_loss: 0.0249 - dense_5_loss: 0.3173 - dense_6_loss: 18.2707 - dense_7_loss: 0.3843 - dense_8_loss: 0.0635 - dense_9_loss: 0.0059 - dense_10_loss: 1.2020e-07 - dense_11_loss: 0.0138 - dense_12_loss: 0.0091 - dense_13_loss: 0.0077 - dense_accuracy: 0.9722 - dense_1_accuracy: 0.9903 - dense_2_accuracy: 0.9764 - dense_3_accuracy: 0.9694 - dense_4_accuracy: 0.9972 - dense_5_accuracy: 0.9889 - dense_6_accuracy: 0.9625 - dense_7_accuracy: 0.9819 - dense_8_accuracy: 0.9944 - dense_9_accuracy: 0.9986 - dense_10_accuracy: 1.0000 - dense_11_accuracy: 0.9986 - dense_12_accuracy: 0.9972 - dense_13_accuracy: 0.9972 - val_loss: 90.4425 - val_dense_loss: 10.3677 - val_dense_1_loss: 7.9772 - val_dense_2_loss: 10.0674 - val_dense_3_loss: 16.1965 - val_dense_4_loss: 6.4677 - val_dense_5_loss: 8.9441 - val_dense_6_loss: 25.0785 - val_dense_7_loss: 1.0031 - val_dense_8_loss: 0.7268 - val_dense_9_loss: 0.8876 - val_dense_10_loss: 0.4060 - val_dense_11_loss: 0.9575 - val_dense_12_loss: 0.5680 - val_dense_13_loss: 0.7944 - val_dense_accuracy: 0.7795 - val_dense_1_accuracy: 0.7906 - val_dense_2_accuracy: 0.7534 - val_dense_3_accuracy: 0.7327 - val_dense_4_accuracy: 0.8135 - val_dense_5_accuracy: 0.7876 - val_dense_6_accuracy: 0.7830 - val_dense_7_accuracy: 0.9547 - val_dense_8_accuracy: 0.9593 - val_dense_9_accuracy: 0.9539 - val_dense_10_accuracy: 0.9729 - val_dense_11_accuracy: 0.9477 - val_dense_12_accuracy: 0.9595 - val_dense_13_accuracy: 0.9573\n",
            "Epoch 10/15\n",
            "12/12 [==============================] - 30s 3s/step - loss: 7.6133 - dense_loss: 0.1461 - dense_1_loss: 3.0075e-04 - dense_2_loss: 0.1761 - dense_3_loss: 0.2981 - dense_4_loss: 0.0190 - dense_5_loss: 5.3809e-08 - dense_6_loss: 6.8108 - dense_7_loss: 0.0516 - dense_8_loss: 0.0213 - dense_9_loss: 4.1548e-04 - dense_10_loss: 2.1368e-05 - dense_11_loss: 0.0698 - dense_12_loss: 0.0103 - dense_13_loss: 0.0094 - dense_accuracy: 0.9944 - dense_1_accuracy: 1.0000 - dense_2_accuracy: 0.9931 - dense_3_accuracy: 0.9931 - dense_4_accuracy: 0.9972 - dense_5_accuracy: 1.0000 - dense_6_accuracy: 0.9681 - dense_7_accuracy: 0.9958 - dense_8_accuracy: 0.9958 - dense_9_accuracy: 1.0000 - dense_10_accuracy: 1.0000 - dense_11_accuracy: 0.9917 - dense_12_accuracy: 0.9986 - dense_13_accuracy: 0.9986 - val_loss: 66.2387 - val_dense_loss: 7.1696 - val_dense_1_loss: 8.3185 - val_dense_2_loss: 7.5652 - val_dense_3_loss: 9.7276 - val_dense_4_loss: 6.1136 - val_dense_5_loss: 8.8548 - val_dense_6_loss: 13.8056 - val_dense_7_loss: 0.6849 - val_dense_8_loss: 0.6905 - val_dense_9_loss: 0.9468 - val_dense_10_loss: 0.4407 - val_dense_11_loss: 0.6574 - val_dense_12_loss: 0.4648 - val_dense_13_loss: 0.7988 - val_dense_accuracy: 0.8263 - val_dense_1_accuracy: 0.7805 - val_dense_2_accuracy: 0.8095 - val_dense_3_accuracy: 0.7778 - val_dense_4_accuracy: 0.8188 - val_dense_5_accuracy: 0.8005 - val_dense_6_accuracy: 0.7725 - val_dense_7_accuracy: 0.9668 - val_dense_8_accuracy: 0.9624 - val_dense_9_accuracy: 0.9498 - val_dense_10_accuracy: 0.9707 - val_dense_11_accuracy: 0.9598 - val_dense_12_accuracy: 0.9655 - val_dense_13_accuracy: 0.9581\n",
            "Epoch 11/15\n",
            "12/12 [==============================] - 30s 3s/step - loss: 0.3848 - dense_loss: 8.2784e-10 - dense_1_loss: 2.3342e-04 - dense_2_loss: 0.0023 - dense_3_loss: 0.0405 - dense_4_loss: 8.2784e-10 - dense_5_loss: 0.0703 - dense_6_loss: 0.2263 - dense_7_loss: 0.0213 - dense_8_loss: 0.0025 - dense_9_loss: 1.7188e-04 - dense_10_loss: 2.3713e-04 - dense_11_loss: 0.0196 - dense_12_loss: 0.0013 - dense_13_loss: 2.3240e-05 - dense_accuracy: 1.0000 - dense_1_accuracy: 1.0000 - dense_2_accuracy: 0.9986 - dense_3_accuracy: 0.9986 - dense_4_accuracy: 1.0000 - dense_5_accuracy: 0.9958 - dense_6_accuracy: 0.9889 - dense_7_accuracy: 0.9986 - dense_8_accuracy: 0.9986 - dense_9_accuracy: 1.0000 - dense_10_accuracy: 1.0000 - dense_11_accuracy: 0.9958 - dense_12_accuracy: 0.9986 - dense_13_accuracy: 1.0000 - val_loss: 56.8754 - val_dense_loss: 6.9349 - val_dense_1_loss: 8.8746 - val_dense_2_loss: 7.0781 - val_dense_3_loss: 8.6678 - val_dense_4_loss: 6.1388 - val_dense_5_loss: 6.9727 - val_dense_6_loss: 7.4476 - val_dense_7_loss: 0.6349 - val_dense_8_loss: 0.6594 - val_dense_9_loss: 0.8967 - val_dense_10_loss: 0.4266 - val_dense_11_loss: 0.7816 - val_dense_12_loss: 0.5808 - val_dense_13_loss: 0.7807 - val_dense_accuracy: 0.8318 - val_dense_1_accuracy: 0.7750 - val_dense_2_accuracy: 0.8142 - val_dense_3_accuracy: 0.7930 - val_dense_4_accuracy: 0.8200 - val_dense_5_accuracy: 0.8167 - val_dense_6_accuracy: 0.8229 - val_dense_7_accuracy: 0.9680 - val_dense_8_accuracy: 0.9629 - val_dense_9_accuracy: 0.9523 - val_dense_10_accuracy: 0.9713 - val_dense_11_accuracy: 0.9536 - val_dense_12_accuracy: 0.9596 - val_dense_13_accuracy: 0.9583\n",
            "Epoch 12/15\n",
            "12/12 [==============================] - 30s 3s/step - loss: 0.0188 - dense_loss: 8.4440e-09 - dense_1_loss: 0.0063 - dense_2_loss: 1.5772e-06 - dense_3_loss: 6.6888e-08 - dense_4_loss: 1.6557e-10 - dense_5_loss: 0.0025 - dense_6_loss: 0.0021 - dense_7_loss: 0.0032 - dense_8_loss: 8.7440e-04 - dense_9_loss: 2.8722e-06 - dense_10_loss: 1.7671e-05 - dense_11_loss: 1.4469e-06 - dense_12_loss: 4.0765e-06 - dense_13_loss: 0.0037 - dense_accuracy: 1.0000 - dense_1_accuracy: 0.9986 - dense_2_accuracy: 1.0000 - dense_3_accuracy: 1.0000 - dense_4_accuracy: 1.0000 - dense_5_accuracy: 0.9986 - dense_6_accuracy: 0.9986 - dense_7_accuracy: 0.9986 - dense_8_accuracy: 1.0000 - dense_9_accuracy: 1.0000 - dense_10_accuracy: 1.0000 - dense_11_accuracy: 1.0000 - dense_12_accuracy: 1.0000 - dense_13_accuracy: 0.9986 - val_loss: 56.6128 - val_dense_loss: 6.9767 - val_dense_1_loss: 7.9193 - val_dense_2_loss: 7.2441 - val_dense_3_loss: 8.6251 - val_dense_4_loss: 6.1823 - val_dense_5_loss: 6.7163 - val_dense_6_loss: 8.3102 - val_dense_7_loss: 0.6183 - val_dense_8_loss: 0.6039 - val_dense_9_loss: 0.8830 - val_dense_10_loss: 0.4197 - val_dense_11_loss: 0.6279 - val_dense_12_loss: 0.7096 - val_dense_13_loss: 0.7764 - val_dense_accuracy: 0.8301 - val_dense_1_accuracy: 0.7898 - val_dense_2_accuracy: 0.8079 - val_dense_3_accuracy: 0.7911 - val_dense_4_accuracy: 0.8199 - val_dense_5_accuracy: 0.8168 - val_dense_6_accuracy: 0.8200 - val_dense_7_accuracy: 0.9692 - val_dense_8_accuracy: 0.9645 - val_dense_9_accuracy: 0.9530 - val_dense_10_accuracy: 0.9719 - val_dense_11_accuracy: 0.9614 - val_dense_12_accuracy: 0.9557 - val_dense_13_accuracy: 0.9584\n",
            "Epoch 13/15\n",
            "12/12 [==============================] - 30s 3s/step - loss: 6.8457e-04 - dense_loss: 1.3908e-08 - dense_1_loss: 2.0327e-06 - dense_2_loss: 1.6630e-05 - dense_3_loss: 5.5630e-08 - dense_4_loss: 1.6557e-10 - dense_5_loss: 1.6755e-07 - dense_6_loss: 6.2030e-04 - dense_7_loss: 2.4835e-09 - dense_8_loss: 5.6264e-06 - dense_9_loss: 1.5491e-06 - dense_10_loss: 9.6026e-06 - dense_11_loss: 7.6896e-07 - dense_12_loss: 2.2201e-05 - dense_13_loss: 5.6187e-06 - dense_accuracy: 1.0000 - dense_1_accuracy: 1.0000 - dense_2_accuracy: 1.0000 - dense_3_accuracy: 1.0000 - dense_4_accuracy: 1.0000 - dense_5_accuracy: 1.0000 - dense_6_accuracy: 1.0000 - dense_7_accuracy: 1.0000 - dense_8_accuracy: 1.0000 - dense_9_accuracy: 1.0000 - dense_10_accuracy: 1.0000 - dense_11_accuracy: 1.0000 - dense_12_accuracy: 1.0000 - dense_13_accuracy: 1.0000 - val_loss: 56.4462 - val_dense_loss: 7.0000 - val_dense_1_loss: 7.8691 - val_dense_2_loss: 7.3276 - val_dense_3_loss: 8.6724 - val_dense_4_loss: 6.1999 - val_dense_5_loss: 6.9163 - val_dense_6_loss: 7.8999 - val_dense_7_loss: 0.5056 - val_dense_8_loss: 0.5775 - val_dense_9_loss: 0.8788 - val_dense_10_loss: 0.4166 - val_dense_11_loss: 0.6081 - val_dense_12_loss: 0.7531 - val_dense_13_loss: 0.8215 - val_dense_accuracy: 0.8298 - val_dense_1_accuracy: 0.7953 - val_dense_2_accuracy: 0.8071 - val_dense_3_accuracy: 0.7912 - val_dense_4_accuracy: 0.8192 - val_dense_5_accuracy: 0.8161 - val_dense_6_accuracy: 0.8299 - val_dense_7_accuracy: 0.9707 - val_dense_8_accuracy: 0.9648 - val_dense_9_accuracy: 0.9535 - val_dense_10_accuracy: 0.9722 - val_dense_11_accuracy: 0.9618 - val_dense_12_accuracy: 0.9540 - val_dense_13_accuracy: 0.9579\n",
            "Epoch 14/15\n",
            "12/12 [==============================] - 30s 3s/step - loss: 0.0074 - dense_loss: 1.4404e-08 - dense_1_loss: 1.0536e-06 - dense_2_loss: 0.0014 - dense_3_loss: 3.3408e-07 - dense_4_loss: 1.6557e-10 - dense_5_loss: 9.3616e-05 - dense_6_loss: 2.8576e-06 - dense_7_loss: 0.0000e+00 - dense_8_loss: 6.2692e-07 - dense_9_loss: 1.2967e-06 - dense_10_loss: 6.4806e-06 - dense_11_loss: 9.3184e-06 - dense_12_loss: 2.2108e-05 - dense_13_loss: 0.0059 - dense_accuracy: 1.0000 - dense_1_accuracy: 1.0000 - dense_2_accuracy: 0.9986 - dense_3_accuracy: 1.0000 - dense_4_accuracy: 1.0000 - dense_5_accuracy: 1.0000 - dense_6_accuracy: 1.0000 - dense_7_accuracy: 1.0000 - dense_8_accuracy: 1.0000 - dense_9_accuracy: 1.0000 - dense_10_accuracy: 1.0000 - dense_11_accuracy: 1.0000 - dense_12_accuracy: 1.0000 - dense_13_accuracy: 0.9986 - val_loss: 56.2796 - val_dense_loss: 7.0079 - val_dense_1_loss: 7.9198 - val_dense_2_loss: 7.1900 - val_dense_3_loss: 8.6917 - val_dense_4_loss: 6.2060 - val_dense_5_loss: 7.0213 - val_dense_6_loss: 7.7730 - val_dense_7_loss: 0.4998 - val_dense_8_loss: 0.5726 - val_dense_9_loss: 0.8772 - val_dense_10_loss: 0.4151 - val_dense_11_loss: 0.6046 - val_dense_12_loss: 0.7492 - val_dense_13_loss: 0.7514 - val_dense_accuracy: 0.8295 - val_dense_1_accuracy: 0.7946 - val_dense_2_accuracy: 0.8110 - val_dense_3_accuracy: 0.7912 - val_dense_4_accuracy: 0.8192 - val_dense_5_accuracy: 0.8148 - val_dense_6_accuracy: 0.8330 - val_dense_7_accuracy: 0.9718 - val_dense_8_accuracy: 0.9661 - val_dense_9_accuracy: 0.9535 - val_dense_10_accuracy: 0.9722 - val_dense_11_accuracy: 0.9622 - val_dense_12_accuracy: 0.9542 - val_dense_13_accuracy: 0.9594\n",
            "Epoch 15/15\n",
            "12/12 [==============================] - 30s 3s/step - loss: 0.0082 - dense_loss: 1.6226e-08 - dense_1_loss: 9.2275e-07 - dense_2_loss: 0.0081 - dense_3_loss: 3.6438e-07 - dense_4_loss: 1.6557e-10 - dense_5_loss: 2.8807e-07 - dense_6_loss: 9.4946e-05 - dense_7_loss: 0.0000e+00 - dense_8_loss: 2.3543e-07 - dense_9_loss: 1.1745e-06 - dense_10_loss: 5.8105e-06 - dense_11_loss: 1.8922e-05 - dense_12_loss: 1.3449e-05 - dense_13_loss: 4.8587e-06 - dense_accuracy: 1.0000 - dense_1_accuracy: 1.0000 - dense_2_accuracy: 0.9986 - dense_3_accuracy: 1.0000 - dense_4_accuracy: 1.0000 - dense_5_accuracy: 1.0000 - dense_6_accuracy: 1.0000 - dense_7_accuracy: 1.0000 - dense_8_accuracy: 1.0000 - dense_9_accuracy: 1.0000 - dense_10_accuracy: 1.0000 - dense_11_accuracy: 1.0000 - dense_12_accuracy: 1.0000 - dense_13_accuracy: 1.0000 - val_loss: 55.7202 - val_dense_loss: 7.0104 - val_dense_1_loss: 7.9380 - val_dense_2_loss: 6.6592 - val_dense_3_loss: 8.6965 - val_dense_4_loss: 6.2080 - val_dense_5_loss: 6.9862 - val_dense_6_loss: 7.7346 - val_dense_7_loss: 0.5005 - val_dense_8_loss: 0.5714 - val_dense_9_loss: 0.8767 - val_dense_10_loss: 0.4137 - val_dense_11_loss: 0.6040 - val_dense_12_loss: 0.7414 - val_dense_13_loss: 0.7797 - val_dense_accuracy: 0.8295 - val_dense_1_accuracy: 0.7945 - val_dense_2_accuracy: 0.8220 - val_dense_3_accuracy: 0.7910 - val_dense_4_accuracy: 0.8192 - val_dense_5_accuracy: 0.8153 - val_dense_6_accuracy: 0.8342 - val_dense_7_accuracy: 0.9716 - val_dense_8_accuracy: 0.9661 - val_dense_9_accuracy: 0.9536 - val_dense_10_accuracy: 0.9722 - val_dense_11_accuracy: 0.9622 - val_dense_12_accuracy: 0.9547 - val_dense_13_accuracy: 0.9577\n",
            "Model: \"model\"\n",
            "__________________________________________________________________________________________________\n",
            " Layer (type)                   Output Shape         Param #     Connected to                     \n",
            "==================================================================================================\n",
            " vstup (InputLayer)             [(None, 55, 260, 1)  0           []                               \n",
            "                                ]                                                                 \n",
            "                                                                                                  \n",
            " conv2d (Conv2D)                (None, 53, 258, 16)  160         ['vstup[0][0]']                  \n",
            "                                                                                                  \n",
            " max_pooling2d (MaxPooling2D)   (None, 26, 129, 16)  0           ['conv2d[0][0]']                 \n",
            "                                                                                                  \n",
            " flatten (Flatten)              (None, 53664)        0           ['max_pooling2d[0][0]']          \n",
            "                                                                                                  \n",
            " dense (Dense)                  (None, 36)           1931940     ['flatten[0][0]']                \n",
            "                                                                                                  \n",
            " dense_1 (Dense)                (None, 36)           1931940     ['flatten[0][0]']                \n",
            "                                                                                                  \n",
            " dense_2 (Dense)                (None, 36)           1931940     ['flatten[0][0]']                \n",
            "                                                                                                  \n",
            " dense_3 (Dense)                (None, 36)           1931940     ['flatten[0][0]']                \n",
            "                                                                                                  \n",
            " dense_4 (Dense)                (None, 36)           1931940     ['flatten[0][0]']                \n",
            "                                                                                                  \n",
            " dense_5 (Dense)                (None, 36)           1931940     ['flatten[0][0]']                \n",
            "                                                                                                  \n",
            " dense_6 (Dense)                (None, 36)           1931940     ['flatten[0][0]']                \n",
            "                                                                                                  \n",
            " dense_7 (Dense)                (None, 2)            107330      ['flatten[0][0]']                \n",
            "                                                                                                  \n",
            " dense_8 (Dense)                (None, 2)            107330      ['flatten[0][0]']                \n",
            "                                                                                                  \n",
            " dense_9 (Dense)                (None, 2)            107330      ['flatten[0][0]']                \n",
            "                                                                                                  \n",
            " dense_10 (Dense)               (None, 2)            107330      ['flatten[0][0]']                \n",
            "                                                                                                  \n",
            " dense_11 (Dense)               (None, 2)            107330      ['flatten[0][0]']                \n",
            "                                                                                                  \n",
            " dense_12 (Dense)               (None, 2)            107330      ['flatten[0][0]']                \n",
            "                                                                                                  \n",
            " dense_13 (Dense)               (None, 2)            107330      ['flatten[0][0]']                \n",
            "                                                                                                  \n",
            "==================================================================================================\n",
            "Total params: 14,275,050\n",
            "Trainable params: 14,275,050\n",
            "Non-trainable params: 0\n",
            "__________________________________________________________________________________________________\n"
          ]
        }
      ],
      "source": [
        "import keras\n",
        "from keras import layers\n",
        "from keras.utils.vis_utils import plot_model\n",
        "\n",
        "inp = layers.Input((55,260,1), name=\"vstup\")\n",
        "conv = layers.Conv2D(16,(3,3), activation=\"relu\")(inp)\n",
        "maxp = layers.MaxPool2D(2,2)(conv)\n",
        "flt = layers.Flatten()(maxp)\n",
        "\n",
        "char1 = layers.Dense(36, \"softmax\")(flt)\n",
        "char2 = layers.Dense(36, \"softmax\")(flt)\n",
        "char3 = layers.Dense(36, \"softmax\")(flt)\n",
        "char4 = layers.Dense(36, \"softmax\")(flt)\n",
        "char5 = layers.Dense(36, \"softmax\")(flt)\n",
        "char6 = layers.Dense(36, \"softmax\")(flt)\n",
        "char7 = layers.Dense(36, \"softmax\")(flt)\n",
        "\n",
        "\n",
        "char11 = layers.Dense(2, \"softmax\")(flt)\n",
        "char12 = layers.Dense(2, \"softmax\")(flt)\n",
        "char13 = layers.Dense(2, \"softmax\")(flt)\n",
        "char14 = layers.Dense(2, \"softmax\")(flt)\n",
        "char15 = layers.Dense(2, \"softmax\")(flt)\n",
        "char16 = layers.Dense(2, \"softmax\")(flt)\n",
        "char17 = layers.Dense(2, \"softmax\")(flt)\n",
        "\n",
        "model = keras.Model(inputs = [inp], outputs = [char1, char2, char3, char4, char5, char6, char7, char11, char12, char13, char14, char15, char16, char17])\n",
        "plot_model(model)\n",
        "\n",
        "model.compile(optimizer=\"adam\", loss=keras.losses.categorical_crossentropy, metrics=[\"accuracy\"])\n",
        "history = model.fit(train_gen, validation_data = test_gen, epochs=15)\n",
        "model.summary()\n",
        "\n",
        "\n"
      ]
    },
    {
      "cell_type": "code",
      "source": [
        "a = int(input())\n",
        "print(\"zadany vstup:\", a)\n",
        "path = X[a]\n",
        "img = cv2.imread(path,0).reshape((55,260,1))\n",
        "img_toshow = cv2.imread(path,1)\n",
        "cv2_imshow(img_toshow)\n",
        "\n",
        "\n",
        "x = np.array([img])\n",
        "res=model.predict(x)\n",
        "\n",
        "\n",
        "\n",
        "znak1 = np.argmax(res[0])\n",
        "znak2 = np.argmax(res[1])\n",
        "znak3 = np.argmax(res[2])\n",
        "znak4 = np.argmax(res[3])\n",
        "znak5 = np.argmax(res[4])\n",
        "znak6 = np.argmax(res[5])\n",
        "znak7 = np.argmax(res[6])\n",
        "\n",
        "znak11 = np.argmax(res[7])\n",
        "znak12 = np.argmax(res[8])\n",
        "znak13 = np.argmax(res[9])\n",
        "znak14 = np.argmax(res[10])\n",
        "znak15 = np.argmax(res[11])\n",
        "znak16 = np.argmax(res[12])\n",
        "znak17 = np.argmax(res[13])\n",
        "odpoved = \"\"\n",
        "odpoved += setList[znak1].upper() +setList[znak2].upper()+setList[znak3].upper()+setList[znak4].upper()+setList[znak5].upper()+setList[znak6].upper()+setList[znak7].upper()\n",
        "\n",
        "print(odpoved)\n",
        "c = int(input())\n",
        "if c == 1:\n",
        "  if znak11 == 1:\n",
        "    print(\"cifra\")\n",
        "  else:\n",
        "    print(\"pismeno\")\n",
        "if c == 2:\n",
        "  if znak12 == 1:\n",
        "    print(\"cifra\")\n",
        "  else:\n",
        "    print(\"pismeno\")\n",
        "if c == 3:\n",
        "  if znak13 == 1:\n",
        "    print(\"cifra\")\n",
        "  else:\n",
        "    print(\"pismeno\")\n",
        "if c == 4:\n",
        "  if znak14 == 1:\n",
        "    print(\"cifra\")\n",
        "  else:\n",
        "    print(\"pismeno\")\n",
        "if c == 5:\n",
        "  if znak15 == 1:\n",
        "    print(\"cifra\")\n",
        "  else:\n",
        "    print(\"pismeno\")\n",
        "if c == 6:\n",
        "  if znak16 == 1:\n",
        "    print(\"cifra\")\n",
        "  else:\n",
        "    print(\"pismeno\")\n",
        "if c == 7:\n",
        "  if znak17 == 1:\n",
        "    print(\"cifra\")\n",
        "  else:\n",
        "    print(\"pismeno\")"
      ],
      "metadata": {
        "colab": {
          "base_uri": "https://localhost:8080/",
          "height": 158
        },
        "id": "ylXx1WzUnkX3",
        "outputId": "582234e9-144b-4cf8-e142-d28306f5b982"
      },
      "execution_count": null,
      "outputs": [
        {
          "output_type": "stream",
          "name": "stdout",
          "text": [
            "129\n",
            "zadany vstup: 129\n"
          ]
        },
        {
          "output_type": "display_data",
          "data": {
            "image/png": "[encoded data removed]",
            "text/plain": [
              "<PIL.Image.Image image mode=RGB size=260x55 at 0x7FD7D7CA5B50>"
            ]
          },
          "metadata": {}
        },
        {
          "output_type": "stream",
          "name": "stdout",
          "text": [
            "KI8JF4J\n",
            "5\n",
            "pismeno\n"
          ]
        }
      ]
    }
  ],
  "metadata": {
    "colab": {
      "name": "Копия блокнота \"Untitled2.ipynb\"",
      "provenance": [],
      "collapsed_sections": []
    },
    "kernelspec": {
      "display_name": "Python 3",
      "name": "python3"
    },
    "language_info": {
      "name": "python"
    }
  },
  "nbformat": 4,
  "nbformat_minor": 0
}